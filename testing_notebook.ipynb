{
 "cells": [
  {
   "cell_type": "code",
   "execution_count": 1,
   "metadata": {},
   "outputs": [
    {
     "name": "stdout",
     "output_type": "stream",
     "text": [
      "GPU detected, using GPU acceleration wherever possible\n"
     ]
    }
   ],
   "source": [
    "import numpy as np\n",
    "from solomon import *\n",
    "from PIL import Image\n",
    "import PIL.Image\n",
    "\n",
    "PIL.Image.MAX_IMAGE_PIXELS = 933120000\n",
    "new_height = 200\n",
    "new_width = 300\n",
    "\n",
    "input_image_path = \"./53658848485_f9517d3193_o.jpg\"\n",
    "image = Image.open(input_image_path)"
   ]
  },
  {
   "cell_type": "code",
   "execution_count": 2,
   "metadata": {},
   "outputs": [
    {
     "name": "stdout",
     "output_type": "stream",
     "text": [
      "580 ms ± 5.12 ms per loop (mean ± std. dev. of 7 runs, 1 loop each)\n"
     ]
    }
   ],
   "source": [
    "%%timeit\n",
    "# testing the performance of the function (GPU)\n",
    "input_image = np.array(image, dtype=np.uint8)\n",
    "output_image = resize_image(input_image, new_width, new_height)"
   ]
  },
  {
   "cell_type": "code",
   "execution_count": 3,
   "metadata": {},
   "outputs": [
    {
     "name": "stdout",
     "output_type": "stream",
     "text": [
      "213 µs ± 1.78 µs per loop (mean ± std. dev. of 7 runs, 1,000 loops each)\n"
     ]
    }
   ],
   "source": [
    "%%timeit\n",
    "# test it with regular image processing (CPU)\n",
    "image2 = image.resize((new_width, new_height), Image.NEAREST)\n",
    "output_image2 = np.array(image2, dtype=np.uint8)"
   ]
  }
 ],
 "metadata": {
  "kernelspec": {
   "display_name": "base",
   "language": "python",
   "name": "python3"
  },
  "language_info": {
   "codemirror_mode": {
    "name": "ipython",
    "version": 3
   },
   "file_extension": ".py",
   "mimetype": "text/x-python",
   "name": "python",
   "nbconvert_exporter": "python",
   "pygments_lexer": "ipython3",
   "version": "3.11.7"
  }
 },
 "nbformat": 4,
 "nbformat_minor": 2
}
